{
 "cells": [
  {
   "cell_type": "code",
   "execution_count": 211,
   "metadata": {},
   "outputs": [],
   "source": [
    "def test_proc(path,file):\n",
    "    import pandas as pd\n",
    "    import numpy as np\n",
    "    # Читаем файл\n",
    "    train=pd.read_csv(path+file,delimiter='\\t',encoding='utf-8')\n",
    "    name=file.split('.')[0]\n",
    "    \n",
    "    # Разбиваем признаки\n",
    "    spl_train=train.features.str.split(',',expand=True) \n",
    "    types=spl_train[0].unique()\n",
    "    features=['feature_{}_{}'.format(types[0],i) for i in range(1,257)]\n",
    "    columns_name=['type_of_features']+features \n",
    "    train[columns_name] = spl_train\n",
    "    \n",
    "    # Создаем окончательную таблицу \n",
    "    train_proc=pd.DataFrame()\n",
    "    train_proc['id_job']=train['id_job']\n",
    "    \n",
    "    # Проводим стандартизацию\n",
    "    for i in range(len(features)):\n",
    "        train[features[i]]=pd.to_numeric(train[features[i]])\n",
    "        train_proc['feature_{}_stand_{}'.format(types[0],i+1)]=(train[features[i]]-np.mean(train[features[i]]))/np.std(train[features[i]])\n",
    "    # Находим индекс максимального значения признака, максимальное значение \n",
    "    # и признак в котором это макс значение(нужно для нахождения абсолютного отклонения ) для вакансии \n",
    "    train_proc['max_feature_{}_index'.format(types[0])]=pd.to_numeric(train[features].idxmax(axis=1).str.split('_',expand=True)[2])\n",
    "    train_proc['max_feature_{}'.format(types[0])]=train[features].idxmax(axis=1)\n",
    "    train_proc['max_feature_{}_int'.format(types[0])]=pd.to_numeric(train[features].max(axis=1))\n",
    "    \n",
    "    df=pd.DataFrame()\n",
    "    df['features']=features\n",
    "    df['mean_feature']=0.0\n",
    "    for i in range(len(features)):\n",
    "        df['mean_feature'][i]=np.mean(train[features[i]])\n",
    "    \n",
    "    train_proc=train_proc.merge(df,left_on='max_feature_{}'.format(types[0]),right_on='features')\n",
    "    #Находим абсолютное отклонение\n",
    "    train_proc['max_feature_{}_abs_mean_diff'.format(types[0])]=abs(train_proc['max_feature_{}_int'.format(types[0])]-train_proc['mean_feature'])\n",
    "    #Дропаем промежуточные колонки\n",
    "    train_proc=train_proc.drop(['features','max_feature_{}'.format(types[0]),'max_feature_{}_int'.format(types[0]),'mean_feature'],axis=1)\n",
    "    #Запишем  окончательный файл \n",
    "    train_proc.to_csv('{}_proc.tsv'.format(name))\n",
    "\n",
    "    \n",
    "test_proc('C:\\\\Users\\\\andre\\\\Documents\\\\','test.tsv')"
   ]
  }
 ],
 "metadata": {
  "kernelspec": {
   "display_name": "Python 3",
   "language": "python",
   "name": "python3"
  },
  "language_info": {
   "codemirror_mode": {
    "name": "ipython",
    "version": 3
   },
   "file_extension": ".py",
   "mimetype": "text/x-python",
   "name": "python",
   "nbconvert_exporter": "python",
   "pygments_lexer": "ipython3",
   "version": "3.7.3"
  }
 },
 "nbformat": 4,
 "nbformat_minor": 2
}
