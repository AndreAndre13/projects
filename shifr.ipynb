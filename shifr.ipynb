{
 "cells": [
  {
   "cell_type": "code",
   "execution_count": 12,
   "metadata": {},
   "outputs": [
    {
     "name": "stdout",
     "output_type": "stream",
     "text": [
      "Введите свое значение a: 23\n",
      "вкцг\n"
     ]
    }
   ],
   "source": [
    "import math\n",
    "a=int(input('Введите свое значение a: '))\n",
    "shifr='тбйї'\n",
    "shifr=shifr.lower()\n",
    "alphabet='абвгґдеєжзиіїйклмнопрстуфхцчшщьюя'\n",
    "n=len(alphabet)\n",
    "b=(23-3*a)%n\n",
    "c=1\n",
    "while (c*a)%n!=1:\n",
    "      c+=1\n",
    "\n",
    "d=n-(b*c)%n\n",
    "rasshifr=''\n",
    "for i in shifr:\n",
    "    C_x=alphabet.find(i)+1\n",
    "    P_x=(c*C_x+d)%n\n",
    "    P_x_bykv=alphabet[P_x-1]\n",
    "    rasshifr=rasshifr+P_x_bykv\n",
    "print(rasshifr)\n",
    "    \n",
    "\n",
    "\n"
   ]
  },
  {
   "cell_type": "code",
   "execution_count": 5,
   "metadata": {},
   "outputs": [
    {
     "name": "stdout",
     "output_type": "stream",
     "text": [
      "введите слово: word z\n",
      "введите ключ: 3\n",
      "zrug c\n"
     ]
    }
   ],
   "source": [
    "\n",
    "text=input('введите слово: ')\n",
    "b=int(input('введите ключ: '))\n",
    "dic = [chr(x) for x in range(97, 123)]\n",
    "n=len(dic)\n",
    "alphabet=''.join(dic)\n",
    "\n",
    "shifr=''\n",
    "for i in text:\n",
    "    if i in dic:\n",
    "        new=(alphabet.find(i)+b)%n\n",
    "        shifr=shifr+alphabet[new]\n",
    "    else:\n",
    "        shifr=shifr+i\n",
    "print(shifr)"
   ]
  },
  {
   "cell_type": "code",
   "execution_count": 3,
   "metadata": {},
   "outputs": [],
   "source": [
    "\n",
    "b=int(input('введите ключ: '))\n",
    "dic = [chr(x) for x in range(97, 123)]\n",
    "n=len(dic)\n",
    "alphabet=''.join(dic)\n",
    "rasshifr=''\n",
    "for i in shifr:\n",
    "    if i in dic:\n",
    "        new=(alphabet.find(i)-b)%n\n",
    "        rasshifr=rasshifr+alphabet[new]\n",
    "    else:\n",
    "        rasshifr=rasshifr+i\n",
    "\n",
    "print(rasshifr)"
   ]
  },
  {
   "cell_type": "code",
   "execution_count": 30,
   "metadata": {},
   "outputs": [
    {
     "data": {
      "text/plain": [
       "'li, l zdv d fklog, l ixfn brx dool'"
      ]
     },
     "execution_count": 30,
     "metadata": {},
     "output_type": "execute_result"
    }
   ],
   "source": [
    "rasshifr"
   ]
  },
  {
   "cell_type": "code",
   "execution_count": 32,
   "metadata": {},
   "outputs": [
    {
     "data": {
      "text/plain": [
       "'oryh'"
      ]
     },
     "execution_count": 32,
     "metadata": {},
     "output_type": "execute_result"
    }
   ],
   "source": [
    "shifr"
   ]
  },
  {
   "cell_type": "code",
   "execution_count": 36,
   "metadata": {},
   "outputs": [
    {
     "data": {
      "text/plain": [
       "'love'"
      ]
     },
     "execution_count": 36,
     "metadata": {},
     "output_type": "execute_result"
    }
   ],
   "source": [
    "rasshifr"
   ]
  },
  {
   "cell_type": "code",
   "execution_count": 10,
   "metadata": {},
   "outputs": [
    {
     "name": "stdout",
     "output_type": "stream",
     "text": [
      "pavm\n"
     ]
    }
   ],
   "source": [
    "from string import ascii_letters\n",
    "from math import gcd\n",
    "\n",
    "letter = ascii_letters\n",
    "\n",
    "\n",
    "def decode(ciphered_text, a, m=26):\n",
    "    if gcd(a, 26) != 1:\n",
    "        raise ValueError('a і 26 не є взаємопростими. Будь ласка спробуйте ще раз.')\n",
    "\n",
    "    msg = ''.join(x for x in ciphered_text if x.isalpha())\n",
    "    out = ''\n",
    "    n = 1\n",
    "    count = 1\n",
    "\n",
    "    while True:\n",
    "        if a * n > m * count:\n",
    "            if a * n == (m * count) + 1:\n",
    "                break\n",
    "            count += 1\n",
    "        n += 1\n",
    "\n",
    "    for char in msg:\n",
    "        if char.isalpha():\n",
    "            d = int((n * (letter.index(char))) % m)\n",
    "            out += letter[d]\n",
    "\n",
    "        else:\n",
    "            out += char\n",
    "\n",
    "    return out\n",
    "\n",
    "\n",
    "print(decode('talk', 3))\n",
    "\n",
    "    "
   ]
  },
  {
   "cell_type": "code",
   "execution_count": 19,
   "metadata": {},
   "outputs": [
    {
     "name": "stdout",
     "output_type": "stream",
     "text": [
      "введите слово: z\n",
      "введите ключ: 1\n",
      "z\n"
     ]
    }
   ],
   "source": [
    "text=input('введите слово: ')\n",
    "b=int(input('введите ключ: '))\n",
    "dic = [chr(x) for x in range(97, 123)]\n",
    "n=len(dic)\n",
    "alphabet=''.join(dic)\n",
    "rasshifr=''\n",
    "for i in text:\n",
    "    if i in dic:\n",
    "        c=1\n",
    "        while abs(c*b)%n!=1:\n",
    "             c+=1\n",
    "        new=((alphabet.find(i)+1)*c)%n\n",
    "        rasshifr=rasshifr+alphabet[new-1]\n",
    "    else:\n",
    "        rasshifr=rasshifr+i\n",
    "print(rasshifr)"
   ]
  },
  {
   "cell_type": "code",
   "execution_count": null,
   "metadata": {},
   "outputs": [],
   "source": []
  }
 ],
 "metadata": {
  "kernelspec": {
   "display_name": "Python 3",
   "language": "python",
   "name": "python3"
  },
  "language_info": {
   "codemirror_mode": {
    "name": "ipython",
    "version": 3
   },
   "file_extension": ".py",
   "mimetype": "text/x-python",
   "name": "python",
   "nbconvert_exporter": "python",
   "pygments_lexer": "ipython3",
   "version": "3.7.1"
  }
 },
 "nbformat": 4,
 "nbformat_minor": 2
}
