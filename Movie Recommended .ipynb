{
 "cells": [
  {
   "cell_type": "code",
   "execution_count": 1,
   "metadata": {},
   "outputs": [
    {
     "name": "stderr",
     "output_type": "stream",
     "text": [
      "C:\\Users\\andre\\Anaconda3\\lib\\site-packages\\lightfm\\_lightfm_fast.py:9: UserWarning: LightFM was compiled without OpenMP support. Only a single thread will be used.\n",
      "  warnings.warn('LightFM was compiled without OpenMP support. '\n"
     ]
    }
   ],
   "source": [
    "import numpy as np\n",
    "from lightfm.datasets import fetch_movielens\n",
    "from lightfm import LightFM\n",
    "\n"
   ]
  },
  {
   "cell_type": "code",
   "execution_count": 2,
   "metadata": {},
   "outputs": [],
   "source": [
    "#агружаем данные\n",
    "data=fetch_movielens(min_rating=4.0)"
   ]
  },
  {
   "cell_type": "code",
   "execution_count": 3,
   "metadata": {},
   "outputs": [
    {
     "name": "stdout",
     "output_type": "stream",
     "text": [
      "<943x1682 sparse matrix of type '<class 'numpy.int32'>'\n",
      "\twith 49906 stored elements in COOrdinate format>\n",
      "<943x1682 sparse matrix of type '<class 'numpy.int32'>'\n",
      "\twith 5469 stored elements in COOrdinate format>\n"
     ]
    }
   ],
   "source": [
    "print(repr(data['train']))\n",
    "print(repr(data['test']))"
   ]
  },
  {
   "cell_type": "code",
   "execution_count": 5,
   "metadata": {},
   "outputs": [
    {
     "data": {
      "text/plain": [
       "<943x1682 sparse matrix of type '<class 'numpy.int32'>'\n",
       "\twith 49906 stored elements in COOrdinate format>"
      ]
     },
     "execution_count": 5,
     "metadata": {},
     "output_type": "execute_result"
    }
   ],
   "source": []
  },
  {
   "cell_type": "code",
   "execution_count": 6,
   "metadata": {},
   "outputs": [
    {
     "data": {
      "text/plain": [
       "<lightfm.lightfm.LightFM at 0x13d8e084240>"
      ]
     },
     "execution_count": 6,
     "metadata": {},
     "output_type": "execute_result"
    }
   ],
   "source": [
    "model=LightFM(loss='warp')\n",
    "model.fit(data['train'],epochs=30,num_threads=2)"
   ]
  },
  {
   "cell_type": "code",
   "execution_count": 20,
   "metadata": {},
   "outputs": [],
   "source": [
    "def sample_recommendation(model,data,user_ids):\n",
    "    n_users,n_items=data['train'].shape\n",
    "    for user_id in user_ids:\n",
    "        known_positives=data['item_labels'][data['train'].tocsr()[user_id].indices]\n",
    "        \n",
    "        scores=model.predict(user_id,np.arange(n_items))\n",
    "        \n",
    "        top_items=data['item_labels'][np.argsort(-scores)]\n",
    "        print('User %s'% user_id)\n",
    "        print('  Known positives:')\n",
    "        \n",
    "        for x in known_positives[:3]:\n",
    "            print('   %s' % x)\n",
    "        print('  reccomended:')\n",
    "        for x in top_items[:3]:\n",
    "            print(\"  %s\" %x)"
   ]
  },
  {
   "cell_type": "code",
   "execution_count": 21,
   "metadata": {},
   "outputs": [
    {
     "name": "stdout",
     "output_type": "stream",
     "text": [
      "User 3\n",
      "  Known positives:\n",
      "   Seven (Se7en) (1995)\n",
      "   Contact (1997)\n",
      "   Starship Troopers (1997)\n",
      "  reccomended:\n",
      "  Scream (1996)\n",
      "  L.A. Confidential (1997)\n",
      "  Contact (1997)\n",
      "User 25\n",
      "  Known positives:\n",
      "   Dead Man Walking (1995)\n",
      "   Star Wars (1977)\n",
      "   Fargo (1996)\n",
      "  reccomended:\n",
      "  English Patient, The (1996)\n",
      "  Contact (1997)\n",
      "  Fargo (1996)\n",
      "User 450\n",
      "  Known positives:\n",
      "   Contact (1997)\n",
      "   George of the Jungle (1997)\n",
      "   Event Horizon (1997)\n",
      "  reccomended:\n",
      "  Air Force One (1997)\n",
      "  I Know What You Did Last Summer (1997)\n",
      "  Dante's Peak (1997)\n"
     ]
    }
   ],
   "source": [
    "sample_recommendation(model,data,[3,25,450])"
   ]
  },
  {
   "cell_type": "code",
   "execution_count": null,
   "metadata": {},
   "outputs": [],
   "source": []
  }
 ],
 "metadata": {
  "kernelspec": {
   "display_name": "Python 3",
   "language": "python",
   "name": "python3"
  },
  "language_info": {
   "codemirror_mode": {
    "name": "ipython",
    "version": 3
   },
   "file_extension": ".py",
   "mimetype": "text/x-python",
   "name": "python",
   "nbconvert_exporter": "python",
   "pygments_lexer": "ipython3",
   "version": "3.7.1"
  }
 },
 "nbformat": 4,
 "nbformat_minor": 4
}
