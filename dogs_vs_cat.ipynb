{
 "cells": [
  {
   "cell_type": "code",
   "execution_count": 2,
   "metadata": {},
   "outputs": [],
   "source": [
    "import os, shutil\n",
    "original_dataset_dir = 'C:\\\\Users\\\\andre\\\\Documents\\\\dogs_vs_cat\\\\train'\n",
    "base_dir = 'C:\\\\Users\\\\andre\\\\Documents\\\\cats_and_dogs_small'\n",
    "os.mkdir(base_dir)\n",
    "train_dir = os.path.join(base_dir, 'train')\n",
    "os.mkdir(train_dir)\n",
    "validation_dir = os.path.join(base_dir, 'validation')\n",
    "os.mkdir(validation_dir)\n",
    "test_dir = os.path.join(base_dir, 'test')\n",
    "os.mkdir(test_dir)\n",
    "train_cats_dir = os.path.join(train_dir, 'cats')\n",
    "os.mkdir(train_cats_dir)  \n",
    "train_dogs_dir = os.path.join(train_dir, 'dogs')\n",
    "os.mkdir(train_dogs_dir)\n",
    "validation_cats_dir = os.path.join(validation_dir, 'cats')\n",
    "os.mkdir(validation_cats_dir)\n",
    "validation_dogs_dir = os.path.join(validation_dir, 'dogs')\n",
    "os.mkdir(validation_dogs_dir)\n",
    "\n",
    "test_cats_dir = os.path.join(test_dir, 'cats')\n",
    "os.mkdir(test_cats_dir)  \n",
    "test_dogs_dir = os.path.join(test_dir, 'dogs')\n",
    "os.mkdir(test_dogs_dir)"
   ]
  },
  {
   "cell_type": "code",
   "execution_count": 3,
   "metadata": {},
   "outputs": [],
   "source": [
    "fnames = ['cat.{}.jpg'.format(i) for i in range(1000)]\n",
    "for fname in fnames:\n",
    "    src = os.path.join(original_dataset_dir, fname)\n",
    "    dst = os.path.join(train_cats_dir, fname)\n",
    "    shutil.copyfile(src, dst) \n",
    "    \n",
    "fnames = ['cat.{}.jpg'.format(i) for i in range(1000, 1500)]\n",
    "for fname in fnames:     \n",
    "    src = os.path.join(original_dataset_dir, fname)\n",
    "    dst = os.path.join(validation_cats_dir, fname)\n",
    "    shutil.copyfile(src, dst)\n",
    "fnames = ['cat.{}.jpg'.format(i) for i in range(1500, 2000)]\n",
    "for fname in fnames:\n",
    "    src = os.path.join(original_dataset_dir, fname)\n",
    "    dst = os.path.join(test_cats_dir, fname)\n",
    "    shutil.copyfile(src, dst)\n",
    "fnames = ['dog.{}.jpg'.format(i) for i in range(1000)]\n",
    "for fname in fnames:\n",
    "    src = os.path.join(original_dataset_dir, fname)\n",
    "    dst = os.path.join(train_dogs_dir, fname)\n",
    "    shutil.copyfile(src, dst)\n",
    "fnames = ['dog.{}.jpg'.format(i) for i in range(1000, 1500)]\n",
    "for fname in fnames:\n",
    "    src = os.path.join(original_dataset_dir, fname)\n",
    "    dst = os.path.join(validation_dogs_dir, fname)\n",
    "    shutil.copyfile(src, dst)\n",
    "fnames = ['dog.{}.jpg'.format(i) for i in range(1500, 2000)]\n",
    "for fname in fnames:\n",
    "    src = os.path.join(original_dataset_dir, fname)\n",
    "    dst = os.path.join(test_dogs_dir, fname)\n",
    "    shutil.copyfile(src, dst)"
   ]
  },
  {
   "cell_type": "code",
   "execution_count": 4,
   "metadata": {},
   "outputs": [
    {
     "name": "stderr",
     "output_type": "stream",
     "text": [
      "Using TensorFlow backend.\n"
     ]
    },
    {
     "name": "stdout",
     "output_type": "stream",
     "text": [
      "WARNING:tensorflow:From C:\\Users\\andre\\Anaconda3\\lib\\site-packages\\keras\\backend\\tensorflow_backend.py:74: The name tf.get_default_graph is deprecated. Please use tf.compat.v1.get_default_graph instead.\n",
      "\n",
      "WARNING:tensorflow:From C:\\Users\\andre\\Anaconda3\\lib\\site-packages\\keras\\backend\\tensorflow_backend.py:517: The name tf.placeholder is deprecated. Please use tf.compat.v1.placeholder instead.\n",
      "\n",
      "WARNING:tensorflow:From C:\\Users\\andre\\Anaconda3\\lib\\site-packages\\keras\\backend\\tensorflow_backend.py:4138: The name tf.random_uniform is deprecated. Please use tf.random.uniform instead.\n",
      "\n",
      "WARNING:tensorflow:From C:\\Users\\andre\\Anaconda3\\lib\\site-packages\\keras\\backend\\tensorflow_backend.py:3976: The name tf.nn.max_pool is deprecated. Please use tf.nn.max_pool2d instead.\n",
      "\n"
     ]
    }
   ],
   "source": [
    "from keras import layers\n",
    "from keras import models\n",
    "model = models.Sequential()\n",
    "model.add(layers.Conv2D(32, (3, 3), activation='relu',\n",
    "                        input_shape=(150, 150, 3)))\n",
    "model.add(layers.MaxPooling2D((2, 2)))\n",
    "model.add(layers.Conv2D(64, (3, 3), activation='relu'))\n",
    "model.add(layers.MaxPooling2D((2, 2)))\n",
    "model.add(layers.Conv2D(128, (3, 3), activation='relu'))\n",
    "model.add(layers.MaxPooling2D((2, 2)))\n",
    "model.add(layers.Conv2D(128, (3, 3), activation='relu'))\n",
    "model.add(layers.MaxPooling2D((2, 2)))\n",
    "model.add(layers.Flatten())\n",
    "model.add(layers.Dense(512, activation='relu'))\n",
    "model.add(layers.Dense(1, activation='sigmoid'))"
   ]
  },
  {
   "cell_type": "code",
   "execution_count": 4,
   "metadata": {},
   "outputs": [
    {
     "name": "stdout",
     "output_type": "stream",
     "text": [
      "_________________________________________________________________\n",
      "Layer (type)                 Output Shape              Param #   \n",
      "=================================================================\n",
      "conv2d_1 (Conv2D)            (None, 148, 148, 32)      896       \n",
      "_________________________________________________________________\n",
      "max_pooling2d_1 (MaxPooling2 (None, 74, 74, 32)        0         \n",
      "_________________________________________________________________\n",
      "conv2d_2 (Conv2D)            (None, 72, 72, 64)        18496     \n",
      "_________________________________________________________________\n",
      "max_pooling2d_2 (MaxPooling2 (None, 36, 36, 64)        0         \n",
      "_________________________________________________________________\n",
      "conv2d_3 (Conv2D)            (None, 34, 34, 128)       73856     \n",
      "_________________________________________________________________\n",
      "max_pooling2d_3 (MaxPooling2 (None, 17, 17, 128)       0         \n",
      "_________________________________________________________________\n",
      "conv2d_4 (Conv2D)            (None, 15, 15, 128)       147584    \n",
      "_________________________________________________________________\n",
      "max_pooling2d_4 (MaxPooling2 (None, 7, 7, 128)         0         \n",
      "_________________________________________________________________\n",
      "flatten_1 (Flatten)          (None, 6272)              0         \n",
      "_________________________________________________________________\n",
      "dense_1 (Dense)              (None, 512)               3211776   \n",
      "_________________________________________________________________\n",
      "dense_2 (Dense)              (None, 1)                 513       \n",
      "=================================================================\n",
      "Total params: 3,453,121\n",
      "Trainable params: 3,453,121\n",
      "Non-trainable params: 0\n",
      "_________________________________________________________________\n"
     ]
    }
   ],
   "source": [
    "model.summary()  "
   ]
  },
  {
   "cell_type": "code",
   "execution_count": 5,
   "metadata": {},
   "outputs": [
    {
     "name": "stdout",
     "output_type": "stream",
     "text": [
      "WARNING:tensorflow:From C:\\Users\\andre\\Anaconda3\\lib\\site-packages\\keras\\optimizers.py:790: The name tf.train.Optimizer is deprecated. Please use tf.compat.v1.train.Optimizer instead.\n",
      "\n",
      "WARNING:tensorflow:From C:\\Users\\andre\\Anaconda3\\lib\\site-packages\\keras\\backend\\tensorflow_backend.py:3376: The name tf.log is deprecated. Please use tf.math.log instead.\n",
      "\n",
      "WARNING:tensorflow:From C:\\Users\\andre\\Anaconda3\\lib\\site-packages\\tensorflow\\python\\ops\\nn_impl.py:180: add_dispatch_support.<locals>.wrapper (from tensorflow.python.ops.array_ops) is deprecated and will be removed in a future version.\n",
      "Instructions for updating:\n",
      "Use tf.where in 2.0, which has the same broadcast rule as np.where\n"
     ]
    }
   ],
   "source": [
    "from keras import optimizers\n",
    "model.compile(loss='binary_crossentropy',\n",
    "              optimizer=optimizers.RMSprop(lr=1e-4),\n",
    "              metrics=['acc'])\n"
   ]
  },
  {
   "cell_type": "code",
   "execution_count": 6,
   "metadata": {},
   "outputs": [
    {
     "name": "stdout",
     "output_type": "stream",
     "text": [
      "Found 2000 images belonging to 2 classes.\n",
      "Found 1000 images belonging to 2 classes.\n"
     ]
    }
   ],
   "source": [
    "from keras.preprocessing.image import ImageDataGenerator\n",
    "train_datagen = ImageDataGenerator(rescale=1./255)\n",
    "test_datagen = ImageDataGenerator(rescale=1./255) \n",
    "train_generator = train_datagen.flow_from_directory(train_dir, target_size=(150, 150), batch_size=20,  class_mode='binary')\n",
    "validation_generator = test_datagen.flow_from_directory(validation_dir,\n",
    "                                                        target_size=(150, 150),\n",
    "                                                        batch_size=20,\n",
    "                                                        class_mode='binary')\n"
   ]
  },
  {
   "cell_type": "code",
   "execution_count": 7,
   "metadata": {},
   "outputs": [
    {
     "name": "stdout",
     "output_type": "stream",
     "text": [
      "data batch shape: (20, 150, 150, 3)\n",
      "labels batch shape: (20,)\n"
     ]
    }
   ],
   "source": [
    "for data_batch, labels_batch in train_generator:\n",
    "    print('data batch shape:', data_batch.shape)\n",
    "    print('labels batch shape:', labels_batch.shape)\n",
    "    break "
   ]
  },
  {
   "cell_type": "code",
   "execution_count": 8,
   "metadata": {},
   "outputs": [
    {
     "name": "stdout",
     "output_type": "stream",
     "text": [
      "WARNING:tensorflow:From C:\\Users\\andre\\Anaconda3\\lib\\site-packages\\keras\\backend\\tensorflow_backend.py:986: The name tf.assign_add is deprecated. Please use tf.compat.v1.assign_add instead.\n",
      "\n",
      "Epoch 1/30\n",
      "100/100 [==============================] - 102s 1s/step - loss: 0.6894 - acc: 0.5225 - val_loss: 0.6716 - val_acc: 0.6220\n",
      "Epoch 2/30\n",
      "100/100 [==============================] - 96s 960ms/step - loss: 0.6588 - acc: 0.6120 - val_loss: 0.6466 - val_acc: 0.5970\n",
      "Epoch 3/30\n",
      "100/100 [==============================] - 96s 955ms/step - loss: 0.6039 - acc: 0.6790 - val_loss: 0.6945 - val_acc: 0.6100\n",
      "Epoch 4/30\n",
      "100/100 [==============================] - 95s 950ms/step - loss: 0.5634 - acc: 0.6980 - val_loss: 0.5870 - val_acc: 0.6800\n",
      "Epoch 5/30\n",
      "100/100 [==============================] - 96s 956ms/step - loss: 0.5417 - acc: 0.7150 - val_loss: 0.5742 - val_acc: 0.6980\n",
      "Epoch 6/30\n",
      "100/100 [==============================] - 96s 955ms/step - loss: 0.5200 - acc: 0.7475 - val_loss: 0.5682 - val_acc: 0.6920\n",
      "Epoch 7/30\n",
      "100/100 [==============================] - 95s 954ms/step - loss: 0.4967 - acc: 0.7550 - val_loss: 0.5628 - val_acc: 0.6960\n",
      "Epoch 8/30\n",
      "100/100 [==============================] - 96s 956ms/step - loss: 0.4630 - acc: 0.7735 - val_loss: 0.5620 - val_acc: 0.7070\n",
      "Epoch 9/30\n",
      "100/100 [==============================] - 96s 955ms/step - loss: 0.4528 - acc: 0.7855 - val_loss: 0.5611 - val_acc: 0.7090\n",
      "Epoch 10/30\n",
      "100/100 [==============================] - 95s 954ms/step - loss: 0.4217 - acc: 0.7990 - val_loss: 0.5633 - val_acc: 0.7190\n",
      "Epoch 11/30\n",
      "100/100 [==============================] - 95s 953ms/step - loss: 0.4053 - acc: 0.8155 - val_loss: 0.5345 - val_acc: 0.7260\n",
      "Epoch 12/30\n",
      "100/100 [==============================] - 95s 953ms/step - loss: 0.3756 - acc: 0.8340 - val_loss: 0.5607 - val_acc: 0.7170\n",
      "Epoch 13/30\n",
      "100/100 [==============================] - 95s 955ms/step - loss: 0.3535 - acc: 0.8480 - val_loss: 0.5776 - val_acc: 0.7160\n",
      "Epoch 14/30\n",
      "100/100 [==============================] - 95s 952ms/step - loss: 0.3340 - acc: 0.8590 - val_loss: 0.5724 - val_acc: 0.7250\n",
      "Epoch 15/30\n",
      "100/100 [==============================] - 95s 953ms/step - loss: 0.3059 - acc: 0.8760 - val_loss: 0.5706 - val_acc: 0.7200\n",
      "Epoch 16/30\n",
      "100/100 [==============================] - 95s 951ms/step - loss: 0.2897 - acc: 0.8845 - val_loss: 0.6028 - val_acc: 0.7300\n",
      "Epoch 17/30\n",
      "100/100 [==============================] - 96s 962ms/step - loss: 0.2720 - acc: 0.8880 - val_loss: 0.5757 - val_acc: 0.7350\n",
      "Epoch 18/30\n",
      "100/100 [==============================] - 96s 960ms/step - loss: 0.2498 - acc: 0.9055 - val_loss: 0.6071 - val_acc: 0.7310\n",
      "Epoch 19/30\n",
      "100/100 [==============================] - 96s 957ms/step - loss: 0.2263 - acc: 0.9125 - val_loss: 0.6134 - val_acc: 0.7360\n",
      "Epoch 20/30\n",
      "100/100 [==============================] - 96s 959ms/step - loss: 0.2025 - acc: 0.9200 - val_loss: 0.6169 - val_acc: 0.7340\n",
      "Epoch 21/30\n",
      "100/100 [==============================] - 96s 956ms/step - loss: 0.1863 - acc: 0.9310 - val_loss: 0.6928 - val_acc: 0.7190\n",
      "Epoch 22/30\n",
      "100/100 [==============================] - 95s 955ms/step - loss: 0.1738 - acc: 0.9400 - val_loss: 0.7155 - val_acc: 0.7160\n",
      "Epoch 23/30\n",
      "100/100 [==============================] - 95s 955ms/step - loss: 0.1519 - acc: 0.9480 - val_loss: 0.7368 - val_acc: 0.7130\n",
      "Epoch 24/30\n",
      "100/100 [==============================] - 95s 952ms/step - loss: 0.1363 - acc: 0.9510 - val_loss: 0.7294 - val_acc: 0.7310\n",
      "Epoch 25/30\n",
      "100/100 [==============================] - 96s 956ms/step - loss: 0.1161 - acc: 0.9620 - val_loss: 0.8056 - val_acc: 0.7230\n",
      "Epoch 26/30\n",
      "100/100 [==============================] - 95s 953ms/step - loss: 0.1048 - acc: 0.9660 - val_loss: 0.7611 - val_acc: 0.7160\n",
      "Epoch 27/30\n",
      "100/100 [==============================] - 96s 957ms/step - loss: 0.0877 - acc: 0.9735 - val_loss: 0.9033 - val_acc: 0.7270\n",
      "Epoch 28/30\n",
      "100/100 [==============================] - 95s 955ms/step - loss: 0.0811 - acc: 0.9765 - val_loss: 0.8464 - val_acc: 0.7160\n",
      "Epoch 29/30\n",
      "100/100 [==============================] - 95s 954ms/step - loss: 0.0637 - acc: 0.9780 - val_loss: 0.8605 - val_acc: 0.7300\n",
      "Epoch 30/30\n",
      "100/100 [==============================] - 95s 953ms/step - loss: 0.0551 - acc: 0.9870 - val_loss: 1.0822 - val_acc: 0.7140\n"
     ]
    }
   ],
   "source": [
    "history = model.fit_generator(train_generator,\n",
    "                              steps_per_epoch=100,\n",
    "                              epochs=30,\n",
    "                              validation_data=validation_generator,\n",
    "                              validation_steps=50)\n",
    "model.save('cats_and_dogs_small_1.h5')"
   ]
  },
  {
   "cell_type": "code",
   "execution_count": 12,
   "metadata": {},
   "outputs": [
    {
     "data": {
      "image/png": "[encoded data removed]",
      "text/plain": [
       "<Figure size 432x288 with 1 Axes>"
      ]
     },
     "metadata": {
      "needs_background": "light"
     },
     "output_type": "display_data"
    },
    {
     "data": {
      "image/png": "[encoded data removed]",
      "text/plain": [
       "<Figure size 432x288 with 1 Axes>"
      ]
     },
     "metadata": {
      "needs_background": "light"
     },
     "output_type": "display_data"
    }
   ],
   "source": [
    "import matplotlib.pyplot as plt\n",
    "acc = history.history['acc']\n",
    "val_acc = history.history['val_acc']\n",
    "loss = history.history['loss']\n",
    "val_loss = history.history['val_loss']\n",
    "epochs = range(1, len(acc) + 1)\n",
    "plt.plot(epochs, acc, 'bo', label='Training acc')\n",
    "plt.plot(epochs, val_acc, 'b', label='Validation acc')\n",
    "plt.title('Training and validation accuracy')\n",
    "plt.legend()\n",
    "plt.figure()\n",
    "plt.plot(epochs, loss, 'bo', label='Training loss')\n",
    "plt.plot(epochs, val_loss, 'b', label='Validation loss')\n",
    "plt.title('Training and validation loss')\n",
    "plt.legend()\n",
    "plt.show()"
   ]
  },
  {
   "cell_type": "code",
   "execution_count": 9,
   "metadata": {},
   "outputs": [],
   "source": [
    "datagen = ImageDataGenerator(rotation_range=40,\n",
    "                             width_shift_range=0.2,\n",
    "                             height_shift_range=0.2,\n",
    "                             shear_range=0.2,\n",
    "                             zoom_range=0.2,\n",
    "                             horizontal_flip=True,\n",
    "                             fill_mode='nearest')\n"
   ]
  },
  {
   "cell_type": "code",
   "execution_count": 10,
   "metadata": {},
   "outputs": [
    {
     "name": "stdout",
     "output_type": "stream",
     "text": [
      "WARNING:tensorflow:From C:\\Users\\andre\\Anaconda3\\lib\\site-packages\\keras\\backend\\tensorflow_backend.py:3445: calling dropout (from tensorflow.python.ops.nn_ops) with keep_prob is deprecated and will be removed in a future version.\n",
      "Instructions for updating:\n",
      "Please use `rate` instead of `keep_prob`. Rate should be set to `rate = 1 - keep_prob`.\n",
      "Found 2000 images belonging to 2 classes.\n",
      "Found 1000 images belonging to 2 classes.\n",
      "Epoch 1/100\n",
      "100/100 [==============================] - 177s 2s/step - loss: 0.6928 - acc: 0.5106 - val_loss: 0.6804 - val_acc: 0.5374\n",
      "Epoch 2/100\n",
      "100/100 [==============================] - 167s 2s/step - loss: 0.6787 - acc: 0.5631 - val_loss: 0.6827 - val_acc: 0.5573\n",
      "Epoch 3/100\n",
      "100/100 [==============================] - 170s 2s/step - loss: 0.6675 - acc: 0.5944 - val_loss: 0.6541 - val_acc: 0.6028\n",
      "Epoch 4/100\n",
      "100/100 [==============================] - 167s 2s/step - loss: 0.6566 - acc: 0.6044 - val_loss: 0.6509 - val_acc: 0.5934\n",
      "Epoch 5/100\n",
      "100/100 [==============================] - 168s 2s/step - loss: 0.6345 - acc: 0.6366 - val_loss: 0.6069 - val_acc: 0.6656\n",
      "Epoch 6/100\n",
      "100/100 [==============================] - 168s 2s/step - loss: 0.6277 - acc: 0.6500 - val_loss: 0.5977 - val_acc: 0.6778\n",
      "Epoch 7/100\n",
      "100/100 [==============================] - 166s 2s/step - loss: 0.6125 - acc: 0.6556 - val_loss: 0.5788 - val_acc: 0.6967\n",
      "Epoch 8/100\n",
      "100/100 [==============================] - 169s 2s/step - loss: 0.6022 - acc: 0.6716 - val_loss: 0.5740 - val_acc: 0.7036\n",
      "Epoch 9/100\n",
      "100/100 [==============================] - 168s 2s/step - loss: 0.5932 - acc: 0.6734 - val_loss: 0.5589 - val_acc: 0.6869\n",
      "Epoch 10/100\n",
      "100/100 [==============================] - 168s 2s/step - loss: 0.5879 - acc: 0.6844 - val_loss: 0.5946 - val_acc: 0.6827\n",
      "Epoch 11/100\n",
      "100/100 [==============================] - 168s 2s/step - loss: 0.5774 - acc: 0.6987 - val_loss: 0.5502 - val_acc: 0.7036\n",
      "Epoch 12/100\n",
      "100/100 [==============================] - 170s 2s/step - loss: 0.5823 - acc: 0.6922 - val_loss: 0.5799 - val_acc: 0.7107\n",
      "Epoch 13/100\n",
      "100/100 [==============================] - 170s 2s/step - loss: 0.5592 - acc: 0.7066 - val_loss: 0.6189 - val_acc: 0.6669\n",
      "Epoch 14/100\n",
      "100/100 [==============================] - 170s 2s/step - loss: 0.5683 - acc: 0.7034 - val_loss: 0.5289 - val_acc: 0.7221\n",
      "Epoch 15/100\n",
      "100/100 [==============================] - 168s 2s/step - loss: 0.5545 - acc: 0.7119 - val_loss: 0.5372 - val_acc: 0.7390\n",
      "Epoch 16/100\n",
      "100/100 [==============================] - 169s 2s/step - loss: 0.5404 - acc: 0.7253 - val_loss: 0.5279 - val_acc: 0.7326\n",
      "Epoch 17/100\n",
      "100/100 [==============================] - 170s 2s/step - loss: 0.5439 - acc: 0.7184 - val_loss: 0.5200 - val_acc: 0.7354\n",
      "Epoch 18/100\n",
      "100/100 [==============================] - 169s 2s/step - loss: 0.5358 - acc: 0.7303 - val_loss: 0.5478 - val_acc: 0.7081\n",
      "Epoch 19/100\n",
      "100/100 [==============================] - 169s 2s/step - loss: 0.5409 - acc: 0.7284 - val_loss: 0.5091 - val_acc: 0.7551\n",
      "Epoch 20/100\n",
      "100/100 [==============================] - 169s 2s/step - loss: 0.5414 - acc: 0.7291 - val_loss: 0.5034 - val_acc: 0.7468\n",
      "Epoch 21/100\n",
      "100/100 [==============================] - 170s 2s/step - loss: 0.5102 - acc: 0.7500 - val_loss: 0.5849 - val_acc: 0.7107\n",
      "Epoch 22/100\n",
      "100/100 [==============================] - 169s 2s/step - loss: 0.5147 - acc: 0.7356 - val_loss: 0.5579 - val_acc: 0.7094\n",
      "Epoch 23/100\n",
      "100/100 [==============================] - 168s 2s/step - loss: 0.5202 - acc: 0.7384 - val_loss: 0.4930 - val_acc: 0.7570\n",
      "Epoch 24/100\n",
      "100/100 [==============================] - 169s 2s/step - loss: 0.5119 - acc: 0.7431 - val_loss: 0.4984 - val_acc: 0.7481\n",
      "Epoch 25/100\n",
      "100/100 [==============================] - 169s 2s/step - loss: 0.5121 - acc: 0.7447 - val_loss: 0.4942 - val_acc: 0.7629\n",
      "Epoch 26/100\n",
      "100/100 [==============================] - 167s 2s/step - loss: 0.5019 - acc: 0.7547 - val_loss: 0.5217 - val_acc: 0.7487\n",
      "Epoch 27/100\n",
      "100/100 [==============================] - 168s 2s/step - loss: 0.4915 - acc: 0.7653 - val_loss: 0.5063 - val_acc: 0.7410\n",
      "Epoch 28/100\n",
      "100/100 [==============================] - 25057s 251s/step - loss: 0.5046 - acc: 0.7531 - val_loss: 0.4950 - val_acc: 0.7582\n",
      "Epoch 29/100\n",
      "100/100 [==============================] - 284s 3s/step - loss: 0.4967 - acc: 0.7612 - val_loss: 0.4876 - val_acc: 0.7635\n",
      "Epoch 30/100\n",
      "100/100 [==============================] - 201s 2s/step - loss: 0.4892 - acc: 0.7513 - val_loss: 0.4630 - val_acc: 0.7709\n",
      "Epoch 31/100\n",
      "100/100 [==============================] - 215s 2s/step - loss: 0.4890 - acc: 0.7597 - val_loss: 0.4989 - val_acc: 0.7506\n",
      "Epoch 32/100\n",
      "100/100 [==============================] - 217s 2s/step - loss: 0.4805 - acc: 0.7728 - val_loss: 0.4946 - val_acc: 0.7648\n",
      "Epoch 33/100\n",
      "100/100 [==============================] - 205s 2s/step - loss: 0.4947 - acc: 0.7616 - val_loss: 0.4821 - val_acc: 0.7595\n",
      "Epoch 34/100\n",
      " 68/100 [===================>..........] - ETA: 51s - loss: 0.4819 - acc: 0.7629"
     ]
    },
    {
     "ename": "KeyboardInterrupt",
     "evalue": "",
     "output_type": "error",
     "traceback": [
      "\u001b[1;31m---------------------------------------------------------------------------\u001b[0m",
      "\u001b[1;31mKeyboardInterrupt\u001b[0m                         Traceback (most recent call last)",
      "\u001b[1;32m<ipython-input-10-1926127dfdf3>\u001b[0m in \u001b[0;36m<module>\u001b[1;34m\u001b[0m\n\u001b[0;32m     41\u001b[0m                               \u001b[0mepochs\u001b[0m\u001b[1;33m=\u001b[0m\u001b[1;36m100\u001b[0m\u001b[1;33m,\u001b[0m\u001b[1;33m\u001b[0m\u001b[1;33m\u001b[0m\u001b[0m\n\u001b[0;32m     42\u001b[0m                               \u001b[0mvalidation_data\u001b[0m\u001b[1;33m=\u001b[0m\u001b[0mvalidation_generator\u001b[0m\u001b[1;33m,\u001b[0m\u001b[1;33m\u001b[0m\u001b[1;33m\u001b[0m\u001b[0m\n\u001b[1;32m---> 43\u001b[1;33m                               validation_steps=50)\n\u001b[0m\u001b[0;32m     44\u001b[0m \u001b[1;33m\u001b[0m\u001b[0m\n\u001b[0;32m     45\u001b[0m \u001b[0mmodel\u001b[0m\u001b[1;33m.\u001b[0m\u001b[0msave\u001b[0m\u001b[1;33m(\u001b[0m\u001b[1;34m'cats_and_dogs_small_2.h5'\u001b[0m\u001b[1;33m)\u001b[0m\u001b[1;33m\u001b[0m\u001b[1;33m\u001b[0m\u001b[0m\n",
      "\u001b[1;32m~\\Anaconda3\\lib\\site-packages\\keras\\legacy\\interfaces.py\u001b[0m in \u001b[0;36mwrapper\u001b[1;34m(*args, **kwargs)\u001b[0m\n\u001b[0;32m     89\u001b[0m                 warnings.warn('Update your `' + object_name + '` call to the ' +\n\u001b[0;32m     90\u001b[0m                               'Keras 2 API: ' + signature, stacklevel=2)\n\u001b[1;32m---> 91\u001b[1;33m             \u001b[1;32mreturn\u001b[0m \u001b[0mfunc\u001b[0m\u001b[1;33m(\u001b[0m\u001b[1;33m*\u001b[0m\u001b[0margs\u001b[0m\u001b[1;33m,\u001b[0m \u001b[1;33m**\u001b[0m\u001b[0mkwargs\u001b[0m\u001b[1;33m)\u001b[0m\u001b[1;33m\u001b[0m\u001b[1;33m\u001b[0m\u001b[0m\n\u001b[0m\u001b[0;32m     92\u001b[0m         \u001b[0mwrapper\u001b[0m\u001b[1;33m.\u001b[0m\u001b[0m_original_function\u001b[0m \u001b[1;33m=\u001b[0m \u001b[0mfunc\u001b[0m\u001b[1;33m\u001b[0m\u001b[1;33m\u001b[0m\u001b[0m\n\u001b[0;32m     93\u001b[0m         \u001b[1;32mreturn\u001b[0m \u001b[0mwrapper\u001b[0m\u001b[1;33m\u001b[0m\u001b[1;33m\u001b[0m\u001b[0m\n",
      "\u001b[1;32m~\\Anaconda3\\lib\\site-packages\\keras\\engine\\training.py\u001b[0m in \u001b[0;36mfit_generator\u001b[1;34m(self, generator, steps_per_epoch, epochs, verbose, callbacks, validation_data, validation_steps, class_weight, max_queue_size, workers, use_multiprocessing, shuffle, initial_epoch)\u001b[0m\n\u001b[0;32m   1416\u001b[0m             \u001b[0muse_multiprocessing\u001b[0m\u001b[1;33m=\u001b[0m\u001b[0muse_multiprocessing\u001b[0m\u001b[1;33m,\u001b[0m\u001b[1;33m\u001b[0m\u001b[1;33m\u001b[0m\u001b[0m\n\u001b[0;32m   1417\u001b[0m             \u001b[0mshuffle\u001b[0m\u001b[1;33m=\u001b[0m\u001b[0mshuffle\u001b[0m\u001b[1;33m,\u001b[0m\u001b[1;33m\u001b[0m\u001b[1;33m\u001b[0m\u001b[0m\n\u001b[1;32m-> 1418\u001b[1;33m             initial_epoch=initial_epoch)\n\u001b[0m\u001b[0;32m   1419\u001b[0m \u001b[1;33m\u001b[0m\u001b[0m\n\u001b[0;32m   1420\u001b[0m     \u001b[1;33m@\u001b[0m\u001b[0minterfaces\u001b[0m\u001b[1;33m.\u001b[0m\u001b[0mlegacy_generator_methods_support\u001b[0m\u001b[1;33m\u001b[0m\u001b[1;33m\u001b[0m\u001b[0m\n",
      "\u001b[1;32m~\\Anaconda3\\lib\\site-packages\\keras\\engine\\training_generator.py\u001b[0m in \u001b[0;36mfit_generator\u001b[1;34m(model, generator, steps_per_epoch, epochs, verbose, callbacks, validation_data, validation_steps, class_weight, max_queue_size, workers, use_multiprocessing, shuffle, initial_epoch)\u001b[0m\n\u001b[0;32m    215\u001b[0m                 outs = model.train_on_batch(x, y,\n\u001b[0;32m    216\u001b[0m                                             \u001b[0msample_weight\u001b[0m\u001b[1;33m=\u001b[0m\u001b[0msample_weight\u001b[0m\u001b[1;33m,\u001b[0m\u001b[1;33m\u001b[0m\u001b[1;33m\u001b[0m\u001b[0m\n\u001b[1;32m--> 217\u001b[1;33m                                             class_weight=class_weight)\n\u001b[0m\u001b[0;32m    218\u001b[0m \u001b[1;33m\u001b[0m\u001b[0m\n\u001b[0;32m    219\u001b[0m                 \u001b[0mouts\u001b[0m \u001b[1;33m=\u001b[0m \u001b[0mto_list\u001b[0m\u001b[1;33m(\u001b[0m\u001b[0mouts\u001b[0m\u001b[1;33m)\u001b[0m\u001b[1;33m\u001b[0m\u001b[1;33m\u001b[0m\u001b[0m\n",
      "\u001b[1;32m~\\Anaconda3\\lib\\site-packages\\keras\\engine\\training.py\u001b[0m in \u001b[0;36mtrain_on_batch\u001b[1;34m(self, x, y, sample_weight, class_weight)\u001b[0m\n\u001b[0;32m   1215\u001b[0m             \u001b[0mins\u001b[0m \u001b[1;33m=\u001b[0m \u001b[0mx\u001b[0m \u001b[1;33m+\u001b[0m \u001b[0my\u001b[0m \u001b[1;33m+\u001b[0m \u001b[0msample_weights\u001b[0m\u001b[1;33m\u001b[0m\u001b[1;33m\u001b[0m\u001b[0m\n\u001b[0;32m   1216\u001b[0m         \u001b[0mself\u001b[0m\u001b[1;33m.\u001b[0m\u001b[0m_make_train_function\u001b[0m\u001b[1;33m(\u001b[0m\u001b[1;33m)\u001b[0m\u001b[1;33m\u001b[0m\u001b[1;33m\u001b[0m\u001b[0m\n\u001b[1;32m-> 1217\u001b[1;33m         \u001b[0moutputs\u001b[0m \u001b[1;33m=\u001b[0m \u001b[0mself\u001b[0m\u001b[1;33m.\u001b[0m\u001b[0mtrain_function\u001b[0m\u001b[1;33m(\u001b[0m\u001b[0mins\u001b[0m\u001b[1;33m)\u001b[0m\u001b[1;33m\u001b[0m\u001b[1;33m\u001b[0m\u001b[0m\n\u001b[0m\u001b[0;32m   1218\u001b[0m         \u001b[1;32mreturn\u001b[0m \u001b[0munpack_singleton\u001b[0m\u001b[1;33m(\u001b[0m\u001b[0moutputs\u001b[0m\u001b[1;33m)\u001b[0m\u001b[1;33m\u001b[0m\u001b[1;33m\u001b[0m\u001b[0m\n\u001b[0;32m   1219\u001b[0m \u001b[1;33m\u001b[0m\u001b[0m\n",
      "\u001b[1;32m~\\Anaconda3\\lib\\site-packages\\keras\\backend\\tensorflow_backend.py\u001b[0m in \u001b[0;36m__call__\u001b[1;34m(self, inputs)\u001b[0m\n\u001b[0;32m   2713\u001b[0m                 \u001b[1;32mreturn\u001b[0m \u001b[0mself\u001b[0m\u001b[1;33m.\u001b[0m\u001b[0m_legacy_call\u001b[0m\u001b[1;33m(\u001b[0m\u001b[0minputs\u001b[0m\u001b[1;33m)\u001b[0m\u001b[1;33m\u001b[0m\u001b[1;33m\u001b[0m\u001b[0m\n\u001b[0;32m   2714\u001b[0m \u001b[1;33m\u001b[0m\u001b[0m\n\u001b[1;32m-> 2715\u001b[1;33m             \u001b[1;32mreturn\u001b[0m \u001b[0mself\u001b[0m\u001b[1;33m.\u001b[0m\u001b[0m_call\u001b[0m\u001b[1;33m(\u001b[0m\u001b[0minputs\u001b[0m\u001b[1;33m)\u001b[0m\u001b[1;33m\u001b[0m\u001b[1;33m\u001b[0m\u001b[0m\n\u001b[0m\u001b[0;32m   2716\u001b[0m         \u001b[1;32melse\u001b[0m\u001b[1;33m:\u001b[0m\u001b[1;33m\u001b[0m\u001b[1;33m\u001b[0m\u001b[0m\n\u001b[0;32m   2717\u001b[0m             \u001b[1;32mif\u001b[0m \u001b[0mpy_any\u001b[0m\u001b[1;33m(\u001b[0m\u001b[0mis_tensor\u001b[0m\u001b[1;33m(\u001b[0m\u001b[0mx\u001b[0m\u001b[1;33m)\u001b[0m \u001b[1;32mfor\u001b[0m \u001b[0mx\u001b[0m \u001b[1;32min\u001b[0m \u001b[0minputs\u001b[0m\u001b[1;33m)\u001b[0m\u001b[1;33m:\u001b[0m\u001b[1;33m\u001b[0m\u001b[1;33m\u001b[0m\u001b[0m\n",
      "\u001b[1;32m~\\Anaconda3\\lib\\site-packages\\keras\\backend\\tensorflow_backend.py\u001b[0m in \u001b[0;36m_call\u001b[1;34m(self, inputs)\u001b[0m\n\u001b[0;32m   2673\u001b[0m             \u001b[0mfetched\u001b[0m \u001b[1;33m=\u001b[0m \u001b[0mself\u001b[0m\u001b[1;33m.\u001b[0m\u001b[0m_callable_fn\u001b[0m\u001b[1;33m(\u001b[0m\u001b[1;33m*\u001b[0m\u001b[0marray_vals\u001b[0m\u001b[1;33m,\u001b[0m \u001b[0mrun_metadata\u001b[0m\u001b[1;33m=\u001b[0m\u001b[0mself\u001b[0m\u001b[1;33m.\u001b[0m\u001b[0mrun_metadata\u001b[0m\u001b[1;33m)\u001b[0m\u001b[1;33m\u001b[0m\u001b[1;33m\u001b[0m\u001b[0m\n\u001b[0;32m   2674\u001b[0m         \u001b[1;32melse\u001b[0m\u001b[1;33m:\u001b[0m\u001b[1;33m\u001b[0m\u001b[1;33m\u001b[0m\u001b[0m\n\u001b[1;32m-> 2675\u001b[1;33m             \u001b[0mfetched\u001b[0m \u001b[1;33m=\u001b[0m \u001b[0mself\u001b[0m\u001b[1;33m.\u001b[0m\u001b[0m_callable_fn\u001b[0m\u001b[1;33m(\u001b[0m\u001b[1;33m*\u001b[0m\u001b[0marray_vals\u001b[0m\u001b[1;33m)\u001b[0m\u001b[1;33m\u001b[0m\u001b[1;33m\u001b[0m\u001b[0m\n\u001b[0m\u001b[0;32m   2676\u001b[0m         \u001b[1;32mreturn\u001b[0m \u001b[0mfetched\u001b[0m\u001b[1;33m[\u001b[0m\u001b[1;33m:\u001b[0m\u001b[0mlen\u001b[0m\u001b[1;33m(\u001b[0m\u001b[0mself\u001b[0m\u001b[1;33m.\u001b[0m\u001b[0moutputs\u001b[0m\u001b[1;33m)\u001b[0m\u001b[1;33m]\u001b[0m\u001b[1;33m\u001b[0m\u001b[1;33m\u001b[0m\u001b[0m\n\u001b[0;32m   2677\u001b[0m \u001b[1;33m\u001b[0m\u001b[0m\n",
      "\u001b[1;32m~\\Anaconda3\\lib\\site-packages\\tensorflow\\python\\client\\session.py\u001b[0m in \u001b[0;36m__call__\u001b[1;34m(self, *args, **kwargs)\u001b[0m\n\u001b[0;32m   1456\u001b[0m         ret = tf_session.TF_SessionRunCallable(self._session._session,\n\u001b[0;32m   1457\u001b[0m                                                \u001b[0mself\u001b[0m\u001b[1;33m.\u001b[0m\u001b[0m_handle\u001b[0m\u001b[1;33m,\u001b[0m \u001b[0margs\u001b[0m\u001b[1;33m,\u001b[0m\u001b[1;33m\u001b[0m\u001b[1;33m\u001b[0m\u001b[0m\n\u001b[1;32m-> 1458\u001b[1;33m                                                run_metadata_ptr)\n\u001b[0m\u001b[0;32m   1459\u001b[0m         \u001b[1;32mif\u001b[0m \u001b[0mrun_metadata\u001b[0m\u001b[1;33m:\u001b[0m\u001b[1;33m\u001b[0m\u001b[1;33m\u001b[0m\u001b[0m\n\u001b[0;32m   1460\u001b[0m           \u001b[0mproto_data\u001b[0m \u001b[1;33m=\u001b[0m \u001b[0mtf_session\u001b[0m\u001b[1;33m.\u001b[0m\u001b[0mTF_GetBuffer\u001b[0m\u001b[1;33m(\u001b[0m\u001b[0mrun_metadata_ptr\u001b[0m\u001b[1;33m)\u001b[0m\u001b[1;33m\u001b[0m\u001b[1;33m\u001b[0m\u001b[0m\n",
      "\u001b[1;31mKeyboardInterrupt\u001b[0m: "
     ]
    }
   ],
   "source": [
    "from keras import layers\n",
    "from keras import models\n",
    "from keras import optimizers\n",
    "model = models.Sequential()\n",
    "model.add(layers.Conv2D(32, (3, 3),\n",
    "          activation='relu',\n",
    "          input_shape=(150, 150, 3)))\n",
    "model.add(layers.MaxPooling2D((2, 2)))\n",
    "model.add(layers.Conv2D(64, (3, 3), activation='relu'))\n",
    "model.add(layers.MaxPooling2D((2, 2)))\n",
    "model.add(layers.Conv2D(128, (3, 3), activation='relu'))\n",
    "model.add(layers.MaxPooling2D((2, 2)))\n",
    "model.add(layers.Conv2D(128, (3, 3), activation='relu'))\n",
    "model.add(layers.MaxPooling2D((2, 2)))\n",
    "model.add(layers.Flatten())\n",
    "model.add(layers.Dropout(0.5)) \n",
    "model.add(layers.Dense(512, activation='relu'))\n",
    "model.add(layers.Dense(1, activation='sigmoid'))\n",
    "model.compile(loss='binary_crossentropy',\n",
    "              optimizer=optimizers.RMSprop(lr=1e-4),\n",
    "              metrics=['acc'])\n",
    "train_datagen = ImageDataGenerator(rescale=1./255,\n",
    "                                   rotation_range=40,\n",
    "                                   width_shift_range=0.2,\n",
    "                                   height_shift_range=0.2,\n",
    "                                    shear_range=0.2,\n",
    "                                   zoom_range=0.2,\n",
    "                                   horizontal_flip=True,\n",
    "                                   fill_mode='nearest')\n",
    "test_datagen = ImageDataGenerator(rescale=1./255)\n",
    "train_generator = train_datagen.flow_from_directory(train_dir,\n",
    "                                                    target_size=(150, 150),\n",
    "                                                    batch_size=32,\n",
    "                                                    class_mode='binary') \n",
    "validation_generator=test_datagen.flow_from_directory(validation_dir,\n",
    "                                                     target_size=(150, 150),\n",
    "                                                     batch_size=32,\n",
    "                                                     class_mode='binary')\n",
    "history = model.fit_generator(train_generator,\n",
    "                              steps_per_epoch=100,\n",
    "                              epochs=100,\n",
    "                              validation_data=validation_generator,\n",
    "                              validation_steps=50)\n",
    " \n",
    "model.save('cats_and_dogs_small_2.h5')\n",
    "\n",
    "                                                    \n",
    "                                                    "
   ]
  },
  {
   "cell_type": "code",
   "execution_count": 10,
   "metadata": {},
   "outputs": [
    {
     "data": {
      "image/png": "[encoded data removed]",
      "text/plain": [
       "<Figure size 432x288 with 1 Axes>"
      ]
     },
     "metadata": {
      "needs_background": "light"
     },
     "output_type": "display_data"
    },
    {
     "data": {
      "image/png": "[encoded data removed]",
      "text/plain": [
       "<Figure size 432x288 with 1 Axes>"
      ]
     },
     "metadata": {
      "needs_background": "light"
     },
     "output_type": "display_data"
    }
   ],
   "source": [
    "import matplotlib.pyplot as plt\n",
    "acc = history.history['acc']\n",
    "val_acc = history.history['val_acc']\n",
    "loss = history.history['loss']\n",
    "val_loss = history.history['val_loss']\n",
    "epochs = range(1, len(acc) + 1)\n",
    "plt.plot(epochs, acc, 'bo', label='Training acc')\n",
    "plt.plot(epochs, val_acc, 'b', label='Validation acc')\n",
    "plt.title('Training and validation accuracy')\n",
    "plt.legend()\n",
    "plt.figure()\n",
    "plt.plot(epochs, loss, 'bo', label='Training loss')\n",
    "plt.plot(epochs, val_loss, 'b', label='Validation loss')\n",
    "plt.title('Training and validation loss')\n",
    "plt.legend()\n",
    "plt.show()"
   ]
  },
  {
   "cell_type": "code",
   "execution_count": 11,
   "metadata": {},
   "outputs": [
    {
     "name": "stdout",
     "output_type": "stream",
     "text": [
      "Downloading data from https://github.com/fchollet/deep-learning-models/releases/download/v0.1/vgg16_weights_tf_dim_ordering_tf_kernels_notop.h5\n",
      "58892288/58889256 [==============================] - 21s 0us/step\n"
     ]
    }
   ],
   "source": [
    "from keras.applications import VGG16\n",
    "conv_base = VGG16(weights='imagenet',\n",
    "                  include_top=False, \n",
    "                  input_shape=(150, 150, 3))\n"
   ]
  },
  {
   "cell_type": "code",
   "execution_count": 13,
   "metadata": {},
   "outputs": [
    {
     "name": "stdout",
     "output_type": "stream",
     "text": [
      "Found 2000 images belonging to 2 classes.\n",
      "Found 1000 images belonging to 2 classes.\n",
      "Found 1000 images belonging to 2 classes.\n"
     ]
    }
   ],
   "source": [
    "import os\n",
    "import numpy as np\n",
    "from keras.preprocessing.image import ImageDataGenerator\n",
    "base_dir = 'C:\\\\Users\\\\andre\\\\Documents\\\\cats_and_dogs_small'\n",
    "train_dir = os.path.join(base_dir, 'train')\n",
    "validation_dir = os.path.join(base_dir, 'validation')\n",
    "test_dir = os.path.join(base_dir, 'test')\n",
    "datagen = ImageDataGenerator(rescale=1./255)\n",
    "batch_size = 20\n",
    "def extract_features(directory, sample_count):\n",
    "    features = np.zeros(shape=(sample_count, 4, 4, 512))\n",
    "    labels = np.zeros(shape=(sample_count))\n",
    "    generator = datagen.flow_from_directory(\n",
    "    directory,\n",
    "    target_size=(150, 150),\n",
    "    batch_size=batch_size,\n",
    "    class_mode='binary')\n",
    "    i = 0\n",
    "    for inputs_batch, labels_batch in generator:\n",
    "        features_batch = conv_base.predict(inputs_batch)\n",
    "        features[i * batch_size : (i + 1) * batch_size] = features_batch\n",
    "        labels[i * batch_size : (i + 1) * batch_size] = labels_batch\n",
    "        i += 1\n",
    "        if i * batch_size >= sample_count:\n",
    "            break\n",
    "        return features, labels\n",
    "train_features, train_labels = extract_features(train_dir, 2000)\n",
    "validation_features, validation_labels = extract_features(validation_dir, 1000)\n",
    "test_features, test_labels = extract_features(test_dir, 1000)"
   ]
  },
  {
   "cell_type": "code",
   "execution_count": 14,
   "metadata": {},
   "outputs": [],
   "source": [
    "train_features = np.reshape(train_features, (2000, 4 * 4 * 512))\n",
    "validation_features = np.reshape(validation_features, (1000, 4 * 4 * 512))\n",
    "test_features = np.reshape(test_features, (1000, 4 * 4 * 512))"
   ]
  },
  {
   "cell_type": "code",
   "execution_count": 15,
   "metadata": {},
   "outputs": [
    {
     "name": "stdout",
     "output_type": "stream",
     "text": [
      "Train on 2000 samples, validate on 1000 samples\n",
      "Epoch 1/30\n",
      "2000/2000 [==============================] - 7s 4ms/step - loss: 0.6929 - acc: 0.9905 - val_loss: 0.6902 - val_acc: 0.9910\n",
      "Epoch 2/30\n",
      "2000/2000 [==============================] - 5s 2ms/step - loss: 0.6855 - acc: 0.9975 - val_loss: 0.6832 - val_acc: 0.9950\n",
      "Epoch 3/30\n",
      "2000/2000 [==============================] - 5s 2ms/step - loss: 0.6800 - acc: 0.9955 - val_loss: 0.6762 - val_acc: 0.9950\n",
      "Epoch 4/30\n",
      "2000/2000 [==============================] - 5s 3ms/step - loss: 0.6732 - acc: 0.9960 - val_loss: 0.6691 - val_acc: 0.99501s - loss: 0.6 - ETA: 1s - loss: \n",
      "Epoch 5/30\n",
      "2000/2000 [==============================] - 5s 2ms/step - loss: 0.6646 - acc: 0.9985 - val_loss: 0.6612 - val_acc: 0.9960\n",
      "Epoch 6/30\n",
      "2000/2000 [==============================] - 5s 2ms/step - loss: 0.6572 - acc: 0.9990 - val_loss: 0.6537 - val_acc: 0.9950\n",
      "Epoch 7/30\n",
      "2000/2000 [==============================] - 5s 2ms/step - loss: 0.6478 - acc: 0.9990 - val_loss: 0.6459 - val_acc: 0.9950\n",
      "Epoch 8/30\n",
      "2000/2000 [==============================] - 5s 2ms/step - loss: 0.6400 - acc: 0.9990 - val_loss: 0.6373 - val_acc: 0.9950\n",
      "Epoch 9/30\n",
      "2000/2000 [==============================] - 4s 2ms/step - loss: 0.6309 - acc: 0.9995 - val_loss: 0.6283 - val_acc: 0.9950\n",
      "Epoch 10/30\n",
      "2000/2000 [==============================] - 4s 2ms/step - loss: 0.6223 - acc: 0.9995 - val_loss: 0.6192 - val_acc: 0.9940\n",
      "Epoch 11/30\n",
      "2000/2000 [==============================] - 5s 2ms/step - loss: 0.6132 - acc: 0.9995 - val_loss: 0.6104 - val_acc: 0.9950\n",
      "Epoch 12/30\n",
      "2000/2000 [==============================] - 4s 2ms/step - loss: 0.6037 - acc: 0.9995 - val_loss: 0.6012 - val_acc: 0.9950\n",
      "Epoch 13/30\n",
      "2000/2000 [==============================] - 4s 2ms/step - loss: 0.5947 - acc: 0.9995 - val_loss: 0.5919 - val_acc: 0.9940\n",
      "Epoch 14/30\n",
      "2000/2000 [==============================] - 5s 3ms/step - loss: 0.5846 - acc: 1.0000 - val_loss: 0.5822 - val_acc: 0.9950\n",
      "Epoch 15/30\n",
      "2000/2000 [==============================] - 5s 2ms/step - loss: 0.5760 - acc: 0.9995 - val_loss: 0.5734 - val_acc: 0.9940\n",
      "Epoch 16/30\n",
      "2000/2000 [==============================] - 4s 2ms/step - loss: 0.5653 - acc: 0.9990 - val_loss: 0.5632 - val_acc: 0.9940\n",
      "Epoch 17/30\n",
      "2000/2000 [==============================] - 4s 2ms/step - loss: 0.5558 - acc: 0.9995 - val_loss: 0.5536 - val_acc: 0.9940\n",
      "Epoch 18/30\n",
      "2000/2000 [==============================] - 4s 2ms/step - loss: 0.5457 - acc: 0.9995 - val_loss: 0.5430 - val_acc: 0.9940\n",
      "Epoch 19/30\n",
      "2000/2000 [==============================] - 4s 2ms/step - loss: 0.5345 - acc: 1.0000 - val_loss: 0.5324 - val_acc: 0.9950\n",
      "Epoch 20/30\n",
      "2000/2000 [==============================] - 5s 2ms/step - loss: 0.5242 - acc: 1.0000 - val_loss: 0.5218 - val_acc: 0.9950\n",
      "Epoch 21/30\n",
      "2000/2000 [==============================] - 4s 2ms/step - loss: 0.5146 - acc: 0.9995 - val_loss: 0.5113 - val_acc: 0.9940\n",
      "Epoch 22/30\n",
      "2000/2000 [==============================] - 4s 2ms/step - loss: 0.5019 - acc: 0.9995 - val_loss: 0.5011 - val_acc: 0.9940\n",
      "Epoch 23/30\n",
      "2000/2000 [==============================] - 4s 2ms/step - loss: 0.4916 - acc: 0.9995 - val_loss: 0.4899 - val_acc: 0.9940\n",
      "Epoch 24/30\n",
      "2000/2000 [==============================] - 4s 2ms/step - loss: 0.4802 - acc: 1.0000 - val_loss: 0.4804 - val_acc: 0.9940\n",
      "Epoch 25/30\n",
      "2000/2000 [==============================] - 4s 2ms/step - loss: 0.4691 - acc: 0.9995 - val_loss: 0.4690 - val_acc: 0.9940\n",
      "Epoch 26/30\n",
      "2000/2000 [==============================] - 4s 2ms/step - loss: 0.4574 - acc: 0.9995 - val_loss: 0.4575 - val_acc: 0.9940\n",
      "Epoch 27/30\n",
      "2000/2000 [==============================] - 4s 2ms/step - loss: 0.4468 - acc: 1.0000 - val_loss: 0.4476 - val_acc: 0.9940\n",
      "Epoch 28/30\n",
      "2000/2000 [==============================] - 4s 2ms/step - loss: 0.4366 - acc: 0.9995 - val_loss: 0.4357 - val_acc: 0.9940\n",
      "Epoch 29/30\n",
      "2000/2000 [==============================] - 4s 2ms/step - loss: 0.4250 - acc: 0.9995 - val_loss: 0.4244 - val_acc: 0.9940\n",
      "Epoch 30/30\n",
      "2000/2000 [==============================] - 4s 2ms/step - loss: 0.4128 - acc: 1.0000 - val_loss: 0.4143 - val_acc: 0.9940\n"
     ]
    }
   ],
   "source": [
    "from keras import models\n",
    "from keras import layers\n",
    "from keras import optimizers\n",
    "model = models.Sequential()\n",
    "model.add(layers.Dense(256, activation='relu', input_dim=4 * 4 * 512))\n",
    "model.add(layers.Dropout(0.5))\n",
    "model.add(layers.Dense(1, activation='sigmoid'))\n",
    "model.compile(optimizer=optimizers.RMSprop(lr=2e-5),\n",
    "              loss='binary_crossentropy',\n",
    "              metrics=['acc'])\n",
    "history = model.fit(train_features, train_labels,\n",
    "                    epochs=30,\n",
    "                    batch_size=20,\n",
    "                    validation_data=(validation_features, validation_labels))"
   ]
  },
  {
   "cell_type": "code",
   "execution_count": null,
   "metadata": {},
   "outputs": [],
   "source": [
    "conv_base.trainable = False #заморозка от обучения\n",
    "conv_base.trainable = True\n",
    "set_trainable = False\n",
    "for layer in conv_base.layers:\n",
    "    if layer.name == 'block5_conv1':\n",
    "        set_trainable = True\n",
    "    if set_trainable:\n",
    "        layer.trainable = True\n",
    "    else:\n",
    "        layer.trainable = False"
   ]
  }
 ],
 "metadata": {
  "kernelspec": {
   "display_name": "Python 3",
   "language": "python",
   "name": "python3"
  },
  "language_info": {
   "codemirror_mode": {
    "name": "ipython",
    "version": 3
   },
   "file_extension": ".py",
   "mimetype": "text/x-python",
   "name": "python",
   "nbconvert_exporter": "python",
   "pygments_lexer": "ipython3",
   "version": "3.7.1"
  }
 },
 "nbformat": 4,
 "nbformat_minor": 2
}
